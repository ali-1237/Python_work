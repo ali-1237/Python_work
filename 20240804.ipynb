{
 "cells": [
  {
   "cell_type": "markdown",
   "metadata": {},
   "source": [
    "\"### Task1: Print 10 Different Values of Dice Roll Using a While Loop\\n\",\n",
    "    \"\\n\",\n",
    "    \"Write a program that simulates rolling a dice 10 times. Use a `while` loop to generate and print 10 different values of dice rolls.\\n\",\n",
    "    \"\\n\",\n",
    "    \"**Steps:**\\n\",\n",
    "    \"\\n\",\n",
    "    \"1. Initialize a counter to keep track of the number of rolls.\\n\",\n",
    "    \"2. Use a `while` loop to continue rolling the dice until you have rolled it 10 times.\\n\",\n",
    "    \"3. Generate a random number between 1 and 6 for each roll.\\n\",\n",
    "    \"4. Print the value of each dice roll.\\n\",\n",
    "    \"5. Increment the counter after each roll.\\n\""
   ]
  },
  {
   "cell_type": "code",
   "execution_count": 36,
   "metadata": {},
   "outputs": [
    {
     "name": "stdout",
     "output_type": "stream",
     "text": [
      " Dic_roll Numbers:10\n",
      "1 :6\n",
      "2 :6\n",
      "3 :2\n",
      "4 :4\n",
      "5 :1\n",
      "6 :5\n",
      "7 :5\n",
      "8 :6\n",
      "9 :4\n",
      "10 :6\n"
     ]
    }
   ],
   "source": [
    "from random import randint\n",
    "print(\" Dic_roll Numbers:10\")\n",
    "i=0\n",
    "while i<10 :\n",
    "    dic_roll=randint(1,6)\n",
    "    i+=1\n",
    "    print(f\"{i} :{dic_roll}\")\n",
    "# print(\"Total rolling :\",i)\n",
    "\n",
    "    "
   ]
  },
  {
   "cell_type": "markdown",
   "metadata": {},
   "source": [
    "\"### Task2: Find the Maximum Number from given values in previous cell\\n\",\n",
    "    \"\\n\",\n",
    "    \"Given three randomly generated integers, your task is to identify the maximum number and its position among the three.\\n\",\n",
    "    \"\\n\",\n",
    "    \"1. Three random integers (`n1`, `n2`, `n3`) are generated between 1 and 100,000.\\n\",\n",
    "    \"2. Print these three integers in a formatted string.\\n\",\n",
    "    \"3. Determine which of the three integers is the maximum.\\n\",\n",
    "    \"4. Print the maximum number and its position (1, 2, or 3).\\n\",\n",
    "    \"\\n\",Sample Output\n",
    "\n",
    "Max Number is 90382 at position 2"
   ]
  },
  {
   "cell_type": "code",
   "execution_count": 73,
   "metadata": {},
   "outputs": [
    {
     "name": "stdout",
     "output_type": "stream",
     "text": [
      "8264 : 14117 : 89616 \n",
      "Maximum_Number is 89616 at position 2\n"
     ]
    }
   ],
   "source": [
    "import random\n",
    "n1=randint(1,100000)\n",
    "n2=randint(1,100000)\n",
    "n3=randint(1,100000)\n",
    "print(f\"{n1} : {n2} : {n3} \")\n",
    "\n",
    "random_num=[]\n",
    "random_num.append(n1)\n",
    "random_num.append(n2)\n",
    "random_num.append(n3)\n",
    "max_value=max(random_num)\n",
    "max_position=random_num.index(max_value)\n",
    "print(f\"Maximum_Number is {max_value} at position {max_position}\")\n"
   ]
  },
  {
   "cell_type": "markdown",
   "metadata": {},
   "source": [
    "###2 mathod"
   ]
  },
  {
   "cell_type": "code",
   "execution_count": 69,
   "metadata": {},
   "outputs": [
    {
     "name": "stdout",
     "output_type": "stream",
     "text": [
      "Dice rolls: [55282, 81285, 66369]\n",
      "Maximum value: 81285\n",
      "Position of the maximum value: 1\n"
     ]
    }
   ],
   "source": [
    "from random import randint\n",
    "adding=[]\n",
    "counter=0\n",
    "while counter<3:\n",
    "    random_num=randint(1,100000)\n",
    "    counter+=1\n",
    "    # print(random_num)\n",
    "    adding.append(random_num)\n",
    "\n",
    "max_value = max(adding)\n",
    "max_position = adding.index(max_value)\n",
    "\n",
    "# Print the dice rolls, the maximum value, and its position\n",
    "print(\"Dice rolls:\", adding)\n",
    "print(\"Maximum value:\", max_value)\n",
    "print(\"Position of the maximum value:\", max_position)"
   ]
  },
  {
   "cell_type": "markdown",
   "metadata": {},
   "source": [
    "\"### Task3: Print Range of Numbers Between Two Random Integers\\n\",\n",
    "    \"\\n\",\n",
    "    \"Write a Python program that generates two random integers `n1` and `n2` between 1 and 100. The program should then print all the numbers between `n1` and `n2` (inclusive) in ascending order.\\n\",\n",
    "    \"\\n\",\n",
    "    \"**Steps:**\\n\",\n",
    "    \"\\n\",\n",
    "    \"1. Generate two random integers `n1` and `n2` between 1 and 100.\\n\",\n",
    "    \"2. Print the values of `n1` and `n2` to verify the generated numbers.\\n\",\n",
    "    \"3. Use a `while` loop to print all the numbers between the smaller and the larger of the two integers in ascending order.\\n\",\n",
    "    Sample output\n",
    "\n",
    "N1: 26      N2: 18      N1 & N2 are printing to check the code only\n",
    "\n",
    "18 19 20 21 22 23 24 25 26"
   ]
  },
  {
   "cell_type": "code",
   "execution_count": 20,
   "metadata": {},
   "outputs": [
    {
     "name": "stdout",
     "output_type": "stream",
     "text": [
      "N1:5  N2:61\n",
      "5 6 7 8 9 10 11 12 13 14 15 16 17 18 19 20 21 22 23 24 25 26 27 28 29 30 31 32 33 34 35 36 37 38 39 40 41 42 43 44 45 46 47 48 49 50 51 52 53 54 55 56 57 58 59 60 "
     ]
    }
   ],
   "source": [
    "from random import randint\n",
    "n1=randint(1,100)\n",
    "n2=randint(1,100)\n",
    "print(f\"N1:{n1}  N2:{n2}\")\n",
    "i=n1\n",
    "while i < n2:\n",
    "    print(i,end=\" \")\n",
    "    i+=1"
   ]
  },
  {
   "cell_type": "markdown",
   "metadata": {},
   "source": [
    "###Second Mathod"
   ]
  },
  {
   "cell_type": "code",
   "execution_count": 30,
   "metadata": {},
   "outputs": [
    {
     "name": "stdout",
     "output_type": "stream",
     "text": [
      "Two random numbers :[8, 95]\n",
      "8 9 10 11 12 13 14 15 16 17 18 19 20 21 22 23 24 25 26 27 28 29 30 31 32 33 34 35 36 37 38 39 40 41 42 43 44 45 46 47 48 49 50 51 52 53 54 55 56 57 58 59 60 61 62 63 64 65 66 67 68 69 70 71 72 73 74 75 76 77 78 79 80 81 82 83 84 85 86 87 88 89 90 91 92 93 94 95 "
     ]
    }
   ],
   "source": [
    "from random import randint\n",
    "counting=[]\n",
    "count=0\n",
    "while count<2:\n",
    "    random_num=randint(1,100)\n",
    "    count+=1\n",
    "    counting.append(random_num)\n",
    "print(f\"Two random numbers :{counting}\")\n",
    "\n",
    "i=counting[0]\n",
    "while i<=counting[1]:\n",
    "    print(i,end=\" \")\n",
    "    i+=1"
   ]
  },
  {
   "cell_type": "markdown",
   "metadata": {},
   "source": [
    "###Task4: "
   ]
  },
  {
   "cell_type": "code",
   "execution_count": 14,
   "metadata": {},
   "outputs": [
    {
     "name": "stdout",
     "output_type": "stream",
     "text": [
      "N1:80  N2:33\n",
      "Descending Order:\n",
      "80 79 78 77 76 75 74 73 72 71 70 69 68 67 66 65 64 63 62 61 60 59 58 57 56 55 54 53 52 51 50 49 48 47 46 45 44 43 42 41 40 39 38 37 36 35 34 33 "
     ]
    }
   ],
   "source": [
    "from random import randint\n",
    "n1=randint(1,100)\n",
    "n2=randint(1,100)\n",
    "print(f\"N1:{n1}  N2:{n2}\")\n",
    "if n1 < n2:\n",
    "    i=n1\n",
    "    print(\"Ascending Order:\")\n",
    "    while i < n2:\n",
    "        print(i,end=\" \")\n",
    "        i+=1\n",
    "elif i > n2:\n",
    "    print(\"Descending Order:\")\n",
    "    j=n1\n",
    "    while j >= n2:\n",
    "        print(j,end=\" \")\n",
    "        j-=1"
   ]
  },
  {
   "cell_type": "markdown",
   "metadata": {},
   "source": [
    "Task5: Print Multiplication Table with Random Start and End Values\n",
    "Write a Python program that generates a random multiplication table for a number between 1 and 100. The program should also randomly determine the start and end values for the multiplication table.\n",
    "\n",
    "Steps:\n",
    "\n",
    "Generate a random integer table_no between 1 and 100 to represent the multiplication table number.\n",
    "Generate a random integer start between 1 and 10 to represent the starting value of the multiplication table.\n",
    "Generate a random integer end between 11 and 20 to represent the ending value of the multiplication table. Ensure that end is greater than start.\n",
    "Print the table number, start value, and end value for verification.\n",
    "Use a while loop to print the multiplication table from the start value to the end value.\n",
    "Sample Output\n",
    "\n",
    "Table Number: 67\n",
    "Start: 67\n",
    "End: 75"
   ]
  },
  {
   "cell_type": "code",
   "execution_count": 36,
   "metadata": {},
   "outputs": [
    {
     "name": "stdout",
     "output_type": "stream",
     "text": [
      "Table_Nunber: 35 \n",
      "Start: 1 \n",
      "End: 16\n",
      "1:     35 * 1 = 35\n",
      "2:     35 * 2 = 70\n",
      "3:     35 * 3 = 105\n",
      "4:     35 * 4 = 140\n",
      "5:     35 * 5 = 175\n",
      "6:     35 * 6 = 210\n",
      "7:     35 * 7 = 245\n",
      "8:     35 * 8 = 280\n",
      "9:     35 * 9 = 315\n",
      "10:     35 * 10 = 350\n",
      "11:     35 * 11 = 385\n",
      "12:     35 * 12 = 420\n",
      "13:     35 * 13 = 455\n",
      "14:     35 * 14 = 490\n",
      "15:     35 * 15 = 525\n",
      "16:     35 * 16 = 560\n"
     ]
    }
   ],
   "source": [
    "from random import randint\n",
    "Table_Nunber=randint(1,100)\n",
    "start=randint(1,10)\n",
    "end=randint(11,20)\n",
    "print(f\"Table_Nunber: {Table_Nunber} \\nStart: {start} \\nEnd: {end}\")\n",
    "i=1\n",
    "while start <= end:\n",
    "    print(f\"{i}:     {Table_Nunber} * {start} = {Table_Nunber*start}\")\n",
    "    start +=1\n",
    "    i+=1\n"
   ]
  }
 ],
 "metadata": {
  "kernelspec": {
   "display_name": "Python 3",
   "language": "python",
   "name": "python3"
  },
  "language_info": {
   "codemirror_mode": {
    "name": "ipython",
    "version": 3
   },
   "file_extension": ".py",
   "mimetype": "text/x-python",
   "name": "python",
   "nbconvert_exporter": "python",
   "pygments_lexer": "ipython3",
   "version": "3.12.3"
  }
 },
 "nbformat": 4,
 "nbformat_minor": 2
}
